{
 "cells": [
  {
   "cell_type": "code",
   "execution_count": 2,
   "metadata": {},
   "outputs": [],
   "source": [
    "%load_ext autoreload\n",
    "%autoreload 2"
   ]
  },
  {
   "cell_type": "code",
   "execution_count": 18,
   "metadata": {},
   "outputs": [],
   "source": [
    "from sys import path\n",
    "dir_path = \"/Users/semionkaminsky/Desktop/News_Analytics\"\n",
    "path.insert(0, dir_path)"
   ]
  },
  {
   "cell_type": "code",
   "execution_count": 19,
   "metadata": {},
   "outputs": [],
   "source": [
    "from src.Scraper import Scraper"
   ]
  },
  {
   "cell_type": "code",
   "execution_count": 20,
   "metadata": {},
   "outputs": [
    {
     "name": "stderr",
     "output_type": "stream",
     "text": [
      "\u001b[32m2023-11-19 16:18:59.485\u001b[0m | \u001b[1mINFO    \u001b[0m | \u001b[36msrc.Scraper\u001b[0m:\u001b[36m__get_news\u001b[0m:\u001b[36m114\u001b[0m - \u001b[1mLength of news RT 50\u001b[0m\n",
      "/Users/semionkaminsky/opt/anaconda3/lib/python3.8/site-packages/bs4/__init__.py:221: UserWarning: You provided Unicode markup but also provided a value for from_encoding. Your from_encoding will be ignored.\n",
      "  warnings.warn(\"You provided Unicode markup but also provided a value for from_encoding. Your from_encoding will be ignored.\")\n",
      "\u001b[32m2023-11-19 16:18:59.698\u001b[0m | \u001b[1mINFO    \u001b[0m | \u001b[36msrc.Scraper\u001b[0m:\u001b[36m__get_news\u001b[0m:\u001b[36m114\u001b[0m - \u001b[1mLength of news RIA 20\u001b[0m\n",
      "\u001b[32m2023-11-19 16:19:09.949\u001b[0m | \u001b[1mINFO    \u001b[0m | \u001b[36msrc.Scraper\u001b[0m:\u001b[36m__get_news\u001b[0m:\u001b[36m114\u001b[0m - \u001b[1mLength of news Vedomosti 200\u001b[0m\n"
     ]
    }
   ],
   "source": [
    "scraper = Scraper()\n",
    "news_df = scraper.get_latest_news()"
   ]
  },
  {
   "cell_type": "code",
   "execution_count": 21,
   "metadata": {},
   "outputs": [
    {
     "data": {
      "text/html": [
       "<div>\n",
       "<style scoped>\n",
       "    .dataframe tbody tr th:only-of-type {\n",
       "        vertical-align: middle;\n",
       "    }\n",
       "\n",
       "    .dataframe tbody tr th {\n",
       "        vertical-align: top;\n",
       "    }\n",
       "\n",
       "    .dataframe thead th {\n",
       "        text-align: right;\n",
       "    }\n",
       "</style>\n",
       "<table border=\"1\" class=\"dataframe\">\n",
       "  <thead>\n",
       "    <tr style=\"text-align: right;\">\n",
       "      <th></th>\n",
       "      <th>title</th>\n",
       "      <th>link</th>\n",
       "      <th>publication_time</th>\n",
       "      <th>text</th>\n",
       "      <th>source</th>\n",
       "    </tr>\n",
       "  </thead>\n",
       "  <tbody>\n",
       "    <tr>\n",
       "      <th>0</th>\n",
       "      <td>На заводе «Атоммаш» в Ростовской области произ...</td>\n",
       "      <td>https://russian.rt.com/russia/news/1233265-zav...</td>\n",
       "      <td>2023-11-19 16:17:47+03:00</td>\n",
       "      <td>В Ростовской области на заводе «Атоммаш» произ...</td>\n",
       "      <td>RT</td>\n",
       "    </tr>\n",
       "    <tr>\n",
       "      <th>1</th>\n",
       "      <td>Синицына победила на этапе Гран-при России в С...</td>\n",
       "      <td>https://russian.rt.com/sport/news/1233260-ksen...</td>\n",
       "      <td>2023-11-19 16:15:41+03:00</td>\n",
       "      <td>Фигуристка Ксения Синицына одержала победу на ...</td>\n",
       "      <td>RT</td>\n",
       "    </tr>\n",
       "    <tr>\n",
       "      <th>2</th>\n",
       "      <td>В ДТП под Новосибирском пострадали 14 человек</td>\n",
       "      <td>https://russian.rt.com/russia/news/1233263-nov...</td>\n",
       "      <td>2023-11-19 16:14:25+03:00</td>\n",
       "      <td>В результате столкновения микроавтобуса с газе...</td>\n",
       "      <td>RT</td>\n",
       "    </tr>\n",
       "    <tr>\n",
       "      <th>3</th>\n",
       "      <td>CNN: в американском Мемфисе застрелили трёх же...</td>\n",
       "      <td>https://russian.rt.com/world/news/1233261-memf...</td>\n",
       "      <td>2023-11-19 16:09:50+03:00</td>\n",
       "      <td>Три женщины и 13-летняя девочка погибли в резу...</td>\n",
       "      <td>RT</td>\n",
       "    </tr>\n",
       "    <tr>\n",
       "      <th>4</th>\n",
       "      <td>Зиньковский усилил бы «Спартак» Беллингемом, Р...</td>\n",
       "      <td>https://russian.rt.com/sport/news/1233258-zink...</td>\n",
       "      <td>2023-11-19 16:05:01+03:00</td>\n",
       "      <td>Полузащитник «Спартака» Антон Зиньковский расс...</td>\n",
       "      <td>RT</td>\n",
       "    </tr>\n",
       "    <tr>\n",
       "      <th>...</th>\n",
       "      <td>...</td>\n",
       "      <td>...</td>\n",
       "      <td>...</td>\n",
       "      <td>...</td>\n",
       "      <td>...</td>\n",
       "    </tr>\n",
       "    <tr>\n",
       "      <th>385</th>\n",
       "      <td>Песков не стал комментировать слова Байдена о ...</td>\n",
       "      <td>https://www.vedomosti.ru/politics/news/2023/11...</td>\n",
       "      <td>2023-11-16 12:47:28+03:00</td>\n",
       "      <td>Дмитрий Песков отказался комментировать заявле...</td>\n",
       "      <td>Vedomosti</td>\n",
       "    </tr>\n",
       "    <tr>\n",
       "      <th>386</th>\n",
       "      <td>В Кремле подтвердили визит президента Таджикис...</td>\n",
       "      <td>https://www.vedomosti.ru/politics/news/2023/11...</td>\n",
       "      <td>2023-11-16 12:39:18+03:00</td>\n",
       "      <td>Президент Таджикистана Эмомали Рахмон посетит ...</td>\n",
       "      <td>Vedomosti</td>\n",
       "    </tr>\n",
       "    <tr>\n",
       "      <th>387</th>\n",
       "      <td>МВД объявило в розыск экс-секретаря СНБО Украины</td>\n",
       "      <td>https://www.vedomosti.ru/politics/news/2023/11...</td>\n",
       "      <td>2023-11-16 12:38:42+03:00</td>\n",
       "      <td>МВД России объявило в розыск бывшего секретаря...</td>\n",
       "      <td>Vedomosti</td>\n",
       "    </tr>\n",
       "    <tr>\n",
       "      <th>388</th>\n",
       "      <td>Кремль отвергает антироссийскую позицию власте...</td>\n",
       "      <td>https://www.vedomosti.ru/politics/news/2023/11...</td>\n",
       "      <td>2023-11-16 12:33:37+03:00</td>\n",
       "      <td>Антироссийская позиция чешских властей, связан...</td>\n",
       "      <td>Vedomosti</td>\n",
       "    </tr>\n",
       "    <tr>\n",
       "      <th>389</th>\n",
       "      <td>СМИ: в Ставропольском крае найден мертвым экс-...</td>\n",
       "      <td>https://www.vedomosti.ru/society/news/2023/11/...</td>\n",
       "      <td>2023-11-16 12:30:27+03:00</td>\n",
       "      <td>Тело бывшего командующего 6-й армией ВВС и ПВО...</td>\n",
       "      <td>Vedomosti</td>\n",
       "    </tr>\n",
       "  </tbody>\n",
       "</table>\n",
       "<p>390 rows × 5 columns</p>\n",
       "</div>"
      ],
      "text/plain": [
       "                                                 title  \\\n",
       "0    На заводе «Атоммаш» в Ростовской области произ...   \n",
       "1    Синицына победила на этапе Гран-при России в С...   \n",
       "2        В ДТП под Новосибирском пострадали 14 человек   \n",
       "3    CNN: в американском Мемфисе застрелили трёх же...   \n",
       "4    Зиньковский усилил бы «Спартак» Беллингемом, Р...   \n",
       "..                                                 ...   \n",
       "385  Песков не стал комментировать слова Байдена о ...   \n",
       "386  В Кремле подтвердили визит президента Таджикис...   \n",
       "387   МВД объявило в розыск экс-секретаря СНБО Украины   \n",
       "388  Кремль отвергает антироссийскую позицию власте...   \n",
       "389  СМИ: в Ставропольском крае найден мертвым экс-...   \n",
       "\n",
       "                                                  link  \\\n",
       "0    https://russian.rt.com/russia/news/1233265-zav...   \n",
       "1    https://russian.rt.com/sport/news/1233260-ksen...   \n",
       "2    https://russian.rt.com/russia/news/1233263-nov...   \n",
       "3    https://russian.rt.com/world/news/1233261-memf...   \n",
       "4    https://russian.rt.com/sport/news/1233258-zink...   \n",
       "..                                                 ...   \n",
       "385  https://www.vedomosti.ru/politics/news/2023/11...   \n",
       "386  https://www.vedomosti.ru/politics/news/2023/11...   \n",
       "387  https://www.vedomosti.ru/politics/news/2023/11...   \n",
       "388  https://www.vedomosti.ru/politics/news/2023/11...   \n",
       "389  https://www.vedomosti.ru/society/news/2023/11/...   \n",
       "\n",
       "             publication_time  \\\n",
       "0   2023-11-19 16:17:47+03:00   \n",
       "1   2023-11-19 16:15:41+03:00   \n",
       "2   2023-11-19 16:14:25+03:00   \n",
       "3   2023-11-19 16:09:50+03:00   \n",
       "4   2023-11-19 16:05:01+03:00   \n",
       "..                        ...   \n",
       "385 2023-11-16 12:47:28+03:00   \n",
       "386 2023-11-16 12:39:18+03:00   \n",
       "387 2023-11-16 12:38:42+03:00   \n",
       "388 2023-11-16 12:33:37+03:00   \n",
       "389 2023-11-16 12:30:27+03:00   \n",
       "\n",
       "                                                  text     source  \n",
       "0    В Ростовской области на заводе «Атоммаш» произ...         RT  \n",
       "1    Фигуристка Ксения Синицына одержала победу на ...         RT  \n",
       "2    В результате столкновения микроавтобуса с газе...         RT  \n",
       "3    Три женщины и 13-летняя девочка погибли в резу...         RT  \n",
       "4    Полузащитник «Спартака» Антон Зиньковский расс...         RT  \n",
       "..                                                 ...        ...  \n",
       "385  Дмитрий Песков отказался комментировать заявле...  Vedomosti  \n",
       "386  Президент Таджикистана Эмомали Рахмон посетит ...  Vedomosti  \n",
       "387  МВД России объявило в розыск бывшего секретаря...  Vedomosti  \n",
       "388  Антироссийская позиция чешских властей, связан...  Vedomosti  \n",
       "389  Тело бывшего командующего 6-й армией ВВС и ПВО...  Vedomosti  \n",
       "\n",
       "[390 rows x 5 columns]"
      ]
     },
     "execution_count": 21,
     "metadata": {},
     "output_type": "execute_result"
    }
   ],
   "source": [
    "news_df"
   ]
  },
  {
   "cell_type": "code",
   "execution_count": 4,
   "metadata": {},
   "outputs": [],
   "source": [
    "class Test:\n",
    "    list_itemes = [1,2,3]\n",
    "\n",
    "    def get_itmes(self):\n",
    "        return self.list_itemes"
   ]
  },
  {
   "cell_type": "code",
   "execution_count": 5,
   "metadata": {},
   "outputs": [],
   "source": [
    "test = Test()"
   ]
  },
  {
   "cell_type": "code",
   "execution_count": 6,
   "metadata": {},
   "outputs": [
    {
     "data": {
      "text/plain": [
       "[1, 2, 3]"
      ]
     },
     "execution_count": 6,
     "metadata": {},
     "output_type": "execute_result"
    }
   ],
   "source": [
    "test.get_itmes()"
   ]
  },
  {
   "cell_type": "code",
   "execution_count": null,
   "metadata": {},
   "outputs": [],
   "source": []
  }
 ],
 "metadata": {
  "kernelspec": {
   "display_name": "Python 3",
   "language": "python",
   "name": "python3"
  },
  "language_info": {
   "codemirror_mode": {
    "name": "ipython",
    "version": 3
   },
   "file_extension": ".py",
   "mimetype": "text/x-python",
   "name": "python",
   "nbconvert_exporter": "python",
   "pygments_lexer": "ipython3",
   "version": "3.8.5"
  }
 },
 "nbformat": 4,
 "nbformat_minor": 4
}
