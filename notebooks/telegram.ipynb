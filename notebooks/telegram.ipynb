{
 "cells": [
  {
   "cell_type": "code",
   "execution_count": 1,
   "metadata": {},
   "outputs": [],
   "source": [
    "from telethon.sync import TelegramClient\n",
    "from telethon.tl.functions.messages import GetHistoryRequest\n",
    "import os\n",
    "from dotenv import load_dotenv"
   ]
  },
  {
   "cell_type": "code",
   "execution_count": 3,
   "metadata": {},
   "outputs": [
    {
     "data": {
      "text/plain": [
       "True"
      ]
     },
     "execution_count": 3,
     "metadata": {},
     "output_type": "execute_result"
    }
   ],
   "source": [
    "load_dotenv()"
   ]
  },
  {
   "cell_type": "code",
   "execution_count": 5,
   "metadata": {},
   "outputs": [
    {
     "data": {
      "text/plain": [
       "<coroutine object AuthMethods._start at 0x00000268ACE48BC0>"
      ]
     },
     "execution_count": 5,
     "metadata": {},
     "output_type": "execute_result"
    }
   ],
   "source": [
    "client = TelegramClient('test', os.getenv('API_ID'), os.getenv('API_HASH'))\n",
    "client.start()"
   ]
  },
  {
   "cell_type": "code",
   "execution_count": 6,
   "metadata": {},
   "outputs": [],
   "source": [
    "await client.connect()\n",
    "if not await client.is_user_authorized():\n",
    "    await client.send_code_request(os.getenv('PHONE'))\n",
    "    await client.sign_in(os.getenv('PHONE'), input('Enter the code: '))"
   ]
  },
  {
   "cell_type": "code",
   "execution_count": 7,
   "metadata": {},
   "outputs": [],
   "source": [
    "all_messages = []\n",
    "offset_id = 0\n",
    "limit = 100\n",
    "total_messages = 0\n",
    "total_count_limit = 0"
   ]
  },
  {
   "cell_type": "code",
   "execution_count": 15,
   "metadata": {},
   "outputs": [
    {
     "name": "stderr",
     "output_type": "stream",
     "text": [
      "C:\\Users\\User\\AppData\\Local\\Temp\\ipykernel_19816\\276070868.py:2: RuntimeWarning: coroutine 'UserMethods.__call__' was never awaited\n",
      "  history = await client(GetHistoryRequest(\n",
      "RuntimeWarning: Enable tracemalloc to get the object allocation traceback\n",
      "c:\\Users\\User\\AppData\\Local\\pypoetry\\Cache\\virtualenvs\\ds-project-hZcBeauF-py3.11\\Lib\\site-packages\\telethon\\tl\\types\\__init__.py:23631: RuntimeWarning: coroutine 'UserMethods.__call__' was never awaited\n",
      "  return {\n",
      "RuntimeWarning: Enable tracemalloc to get the object allocation traceback\n"
     ]
    },
    {
     "ename": "CancelledError",
     "evalue": "",
     "output_type": "error",
     "traceback": [
      "\u001b[1;31m---------------------------------------------------------------------------\u001b[0m",
      "\u001b[1;31mFloodWaitError\u001b[0m                            Traceback (most recent call last)",
      "File \u001b[1;32mc:\\Users\\User\\AppData\\Local\\pypoetry\\Cache\\virtualenvs\\ds-project-hZcBeauF-py3.11\\Lib\\site-packages\\telethon\\client\\users.py:87\u001b[0m, in \u001b[0;36mUserMethods._call\u001b[1;34m(self, sender, request, ordered, flood_sleep_threshold)\u001b[0m\n\u001b[0;32m     86\u001b[0m \u001b[38;5;28;01melse\u001b[39;00m:\n\u001b[1;32m---> 87\u001b[0m     result \u001b[38;5;241m=\u001b[39m \u001b[38;5;28;01mawait\u001b[39;00m future\n\u001b[0;32m     88\u001b[0m     \u001b[38;5;28mself\u001b[39m\u001b[38;5;241m.\u001b[39msession\u001b[38;5;241m.\u001b[39mprocess_entities(result)\n",
      "\u001b[1;31mFloodWaitError\u001b[0m: A wait of 12 seconds is required (caused by GetHistoryRequest)",
      "\nDuring handling of the above exception, another exception occurred:\n",
      "\u001b[1;31mCancelledError\u001b[0m                            Traceback (most recent call last)",
      "Cell \u001b[1;32mIn[15], line 2\u001b[0m\n\u001b[0;32m      1\u001b[0m \u001b[38;5;28;01mwhile\u001b[39;00m \u001b[38;5;28;01mTrue\u001b[39;00m:\n\u001b[1;32m----> 2\u001b[0m    history \u001b[38;5;241m=\u001b[39m \u001b[38;5;28;01mawait\u001b[39;00m client(GetHistoryRequest(\n\u001b[0;32m      3\u001b[0m        peer\u001b[38;5;241m=\u001b[39m\u001b[38;5;124m'\u001b[39m\u001b[38;5;124mThe Bell\u001b[39m\u001b[38;5;124m'\u001b[39m,\n\u001b[0;32m      4\u001b[0m        offset_id\u001b[38;5;241m=\u001b[39moffset_id,\n\u001b[0;32m      5\u001b[0m        offset_date\u001b[38;5;241m=\u001b[39m\u001b[38;5;28;01mNone\u001b[39;00m,\n\u001b[0;32m      6\u001b[0m        add_offset\u001b[38;5;241m=\u001b[39m\u001b[38;5;241m0\u001b[39m,\n\u001b[0;32m      7\u001b[0m        limit\u001b[38;5;241m=\u001b[39mlimit,\n\u001b[0;32m      8\u001b[0m        max_id\u001b[38;5;241m=\u001b[39m\u001b[38;5;241m0\u001b[39m,\n\u001b[0;32m      9\u001b[0m        min_id\u001b[38;5;241m=\u001b[39m\u001b[38;5;241m0\u001b[39m,\n\u001b[0;32m     10\u001b[0m        \u001b[38;5;28mhash\u001b[39m\u001b[38;5;241m=\u001b[39m\u001b[38;5;241m0\u001b[39m\n\u001b[0;32m     11\u001b[0m    ))\n\u001b[0;32m     12\u001b[0m    \u001b[38;5;28;01mif\u001b[39;00m \u001b[38;5;129;01mnot\u001b[39;00m history\u001b[38;5;241m.\u001b[39mmessages:\n\u001b[0;32m     13\u001b[0m        \u001b[38;5;28;01mbreak\u001b[39;00m\n",
      "File \u001b[1;32mc:\\Users\\User\\AppData\\Local\\pypoetry\\Cache\\virtualenvs\\ds-project-hZcBeauF-py3.11\\Lib\\site-packages\\telethon\\client\\users.py:30\u001b[0m, in \u001b[0;36mUserMethods.__call__\u001b[1;34m(self, request, ordered, flood_sleep_threshold)\u001b[0m\n\u001b[0;32m     29\u001b[0m \u001b[38;5;28;01masync\u001b[39;00m \u001b[38;5;28;01mdef\u001b[39;00m \u001b[38;5;21m__call__\u001b[39m(\u001b[38;5;28mself\u001b[39m: \u001b[38;5;124m'\u001b[39m\u001b[38;5;124mTelegramClient\u001b[39m\u001b[38;5;124m'\u001b[39m, request, ordered\u001b[38;5;241m=\u001b[39m\u001b[38;5;28;01mFalse\u001b[39;00m, flood_sleep_threshold\u001b[38;5;241m=\u001b[39m\u001b[38;5;28;01mNone\u001b[39;00m):\n\u001b[1;32m---> 30\u001b[0m     \u001b[38;5;28;01mreturn\u001b[39;00m \u001b[38;5;28;01mawait\u001b[39;00m \u001b[38;5;28mself\u001b[39m\u001b[38;5;241m.\u001b[39m_call(\u001b[38;5;28mself\u001b[39m\u001b[38;5;241m.\u001b[39m_sender, request, ordered\u001b[38;5;241m=\u001b[39mordered)\n",
      "File \u001b[1;32mc:\\Users\\User\\AppData\\Local\\pypoetry\\Cache\\virtualenvs\\ds-project-hZcBeauF-py3.11\\Lib\\site-packages\\telethon\\client\\users.py:117\u001b[0m, in \u001b[0;36mUserMethods._call\u001b[1;34m(self, sender, request, ordered, flood_sleep_threshold)\u001b[0m\n\u001b[0;32m    115\u001b[0m \u001b[38;5;28;01mif\u001b[39;00m e\u001b[38;5;241m.\u001b[39mseconds \u001b[38;5;241m<\u001b[39m\u001b[38;5;241m=\u001b[39m \u001b[38;5;28mself\u001b[39m\u001b[38;5;241m.\u001b[39mflood_sleep_threshold:\n\u001b[0;32m    116\u001b[0m     \u001b[38;5;28mself\u001b[39m\u001b[38;5;241m.\u001b[39m_log[\u001b[38;5;18m__name__\u001b[39m]\u001b[38;5;241m.\u001b[39minfo(\u001b[38;5;241m*\u001b[39m_fmt_flood(e\u001b[38;5;241m.\u001b[39mseconds, request))\n\u001b[1;32m--> 117\u001b[0m     \u001b[38;5;28;01mawait\u001b[39;00m asyncio\u001b[38;5;241m.\u001b[39msleep(e\u001b[38;5;241m.\u001b[39mseconds)\n\u001b[0;32m    118\u001b[0m \u001b[38;5;28;01melse\u001b[39;00m:\n\u001b[0;32m    119\u001b[0m     \u001b[38;5;28;01mraise\u001b[39;00m\n",
      "File \u001b[1;32m~\\AppData\\Local\\Programs\\Python\\Python311\\Lib\\asyncio\\tasks.py:639\u001b[0m, in \u001b[0;36msleep\u001b[1;34m(delay, result)\u001b[0m\n\u001b[0;32m    635\u001b[0m h \u001b[38;5;241m=\u001b[39m loop\u001b[38;5;241m.\u001b[39mcall_later(delay,\n\u001b[0;32m    636\u001b[0m                     futures\u001b[38;5;241m.\u001b[39m_set_result_unless_cancelled,\n\u001b[0;32m    637\u001b[0m                     future, result)\n\u001b[0;32m    638\u001b[0m \u001b[38;5;28;01mtry\u001b[39;00m:\n\u001b[1;32m--> 639\u001b[0m     \u001b[38;5;28;01mreturn\u001b[39;00m \u001b[38;5;28;01mawait\u001b[39;00m future\n\u001b[0;32m    640\u001b[0m \u001b[38;5;28;01mfinally\u001b[39;00m:\n\u001b[0;32m    641\u001b[0m     h\u001b[38;5;241m.\u001b[39mcancel()\n",
      "\u001b[1;31mCancelledError\u001b[0m: "
     ]
    }
   ],
   "source": [
    "while True:\n",
    "   history = await client(GetHistoryRequest(\n",
    "       peer='The Bell',\n",
    "       offset_id=offset_id,\n",
    "       offset_date=None,\n",
    "       add_offset=0,\n",
    "       limit=limit,\n",
    "       max_id=0,\n",
    "       min_id=0,\n",
    "       hash=0\n",
    "   ))\n",
    "   if not history.messages:\n",
    "       break\n",
    "   messages = history.messages\n",
    "   for message in messages:\n",
    "       all_messages.append(message.to_dict())\n",
    "   offset_id = messages[len(messages) - 1].id\n",
    "   if total_count_limit != 0 and total_messages >= total_count_limit:\n",
    "       break"
   ]
  },
  {
   "cell_type": "code",
   "execution_count": 22,
   "metadata": {},
   "outputs": [
    {
     "data": {
      "text/plain": [
       "12000"
      ]
     },
     "execution_count": 22,
     "metadata": {},
     "output_type": "execute_result"
    }
   ],
   "source": [
    "len(all_messages)"
   ]
  },
  {
   "cell_type": "code",
   "execution_count": 21,
   "metadata": {},
   "outputs": [
    {
     "data": {
      "text/plain": [
       "{'_': 'Message',\n",
       " 'id': 25460,\n",
       " 'peer_id': {'_': 'PeerChannel', 'channel_id': 1140809683},\n",
       " 'date': datetime.datetime(2023, 12, 14, 13, 16, 35, tzinfo=datetime.timezone.utc),\n",
       " 'message': '«Итоги года с Путиным» продлились 4 часа 5 минут и завершились вопросом, от чего бы президент предостерег самого себя образца 2000 года (от излишнего доверия «так называемым партнерам»). За все это время ни одного действительно острого вопроса задано не было.\\n\\nНАСТОЯЩИЙ МАТЕРИАЛ (ИНФОРМАЦИЯ) ПРОИЗВЕДЕН И РАСПРОСТРАНЕН ИНОСТРАННЫМ АГЕНТОМ THE BELL ЛИБО КАСАЕТСЯ ДЕЯТЕЛЬНОСТИ ИНОСТРАННОГО АГЕНТА THE BELL. 18+',\n",
       " 'out': False,\n",
       " 'mentioned': False,\n",
       " 'media_unread': False,\n",
       " 'silent': False,\n",
       " 'post': True,\n",
       " 'from_scheduled': False,\n",
       " 'legacy': False,\n",
       " 'edit_hide': False,\n",
       " 'pinned': False,\n",
       " 'noforwards': False,\n",
       " 'invert_media': False,\n",
       " 'from_id': None,\n",
       " 'fwd_from': None,\n",
       " 'via_bot_id': None,\n",
       " 'reply_to': None,\n",
       " 'media': None,\n",
       " 'reply_markup': None,\n",
       " 'entities': [],\n",
       " 'views': 6448,\n",
       " 'forwards': 27,\n",
       " 'replies': {'_': 'MessageReplies',\n",
       "  'replies': 22,\n",
       "  'replies_pts': 70199,\n",
       "  'comments': True,\n",
       "  'recent_repliers': [{'_': 'PeerUser', 'user_id': 441367469},\n",
       "   {'_': 'PeerUser', 'user_id': 5871379954},\n",
       "   {'_': 'PeerUser', 'user_id': 944021986}],\n",
       "  'channel_id': 1923932614,\n",
       "  'max_id': 36291,\n",
       "  'read_max_id': None},\n",
       " 'edit_date': datetime.datetime(2023, 12, 14, 13, 40, 1, tzinfo=datetime.timezone.utc),\n",
       " 'post_author': None,\n",
       " 'grouped_id': None,\n",
       " 'reactions': {'_': 'MessageReactions',\n",
       "  'results': [{'_': 'ReactionCount',\n",
       "    'reaction': {'_': 'ReactionEmoji', 'emoticon': '🥱'},\n",
       "    'count': 81,\n",
       "    'chosen_order': None},\n",
       "   {'_': 'ReactionCount',\n",
       "    'reaction': {'_': 'ReactionEmoji', 'emoticon': '💊'},\n",
       "    'count': 20,\n",
       "    'chosen_order': None},\n",
       "   {'_': 'ReactionCount',\n",
       "    'reaction': {'_': 'ReactionEmoji', 'emoticon': '🗿'},\n",
       "    'count': 13,\n",
       "    'chosen_order': None},\n",
       "   {'_': 'ReactionCount',\n",
       "    'reaction': {'_': 'ReactionEmoji', 'emoticon': '❤'},\n",
       "    'count': 5,\n",
       "    'chosen_order': None},\n",
       "   {'_': 'ReactionCount',\n",
       "    'reaction': {'_': 'ReactionEmoji', 'emoticon': '🤯'},\n",
       "    'count': 3,\n",
       "    'chosen_order': None},\n",
       "   {'_': 'ReactionCount',\n",
       "    'reaction': {'_': 'ReactionEmoji', 'emoticon': '🍌'},\n",
       "    'count': 2,\n",
       "    'chosen_order': None},\n",
       "   {'_': 'ReactionCount',\n",
       "    'reaction': {'_': 'ReactionEmoji', 'emoticon': '🎃'},\n",
       "    'count': 1,\n",
       "    'chosen_order': None}],\n",
       "  'min': False,\n",
       "  'can_see_list': False,\n",
       "  'recent_reactions': []},\n",
       " 'restriction_reason': [],\n",
       " 'ttl_period': None}"
      ]
     },
     "execution_count": 21,
     "metadata": {},
     "output_type": "execute_result"
    }
   ],
   "source": [
    "all_messages[0]"
   ]
  },
  {
   "cell_type": "code",
   "execution_count": 20,
   "metadata": {},
   "outputs": [
    {
     "data": {
      "text/plain": [
       "'Путин: запрета на аборты нет\\n\\nНАСТОЯЩИЙ МАТЕРИАЛ (ИНФОРМАЦИЯ) ПРОИЗВЕДЕН И РАСПРОСТРАНЕН ИНОСТРАННЫМ АГЕНТОМ THE BELL ЛИБО КАСАЕТСЯ ДЕЯТЕЛЬНОСТИ ИНОСТРАННОГО АГЕНТА THE BELL. 18+\\n\\nПутин уподобил кампанию по «мягкому» запрету абортов антиалкогольной кампании времен перестройки, и призвал действовать аккуратно и не повторять ее ошибок. «Государство заинтересовано в том, чтобы демографическая проблема решалась, чтобы женщина сохраняла ребенка <...> Но повторяю, права и свободы женщин у нас должны соблюдаться».\\n\\nКак раз накануне в Госдуму был внесен законопроект о запрете абортов в частных клиниках, подробнее об этом мы писали в вечерней рассылке. По мировому опыту, положительный демографический эффект будет краткосрочным, а экономический - длительным и отрицательным.'"
      ]
     },
     "execution_count": 20,
     "metadata": {},
     "output_type": "execute_result"
    }
   ],
   "source": [
    "all_messages[1]['message']"
   ]
  },
  {
   "cell_type": "code",
   "execution_count": 24,
   "metadata": {},
   "outputs": [
    {
     "data": {
      "text/plain": [
       "<coroutine object AuthMethods.log_out at 0x00000268B554C660>"
      ]
     },
     "execution_count": 24,
     "metadata": {},
     "output_type": "execute_result"
    }
   ],
   "source": [
    "client.log_out()"
   ]
  }
 ],
 "metadata": {
  "kernelspec": {
   "display_name": "base",
   "language": "python",
   "name": "python3"
  },
  "language_info": {
   "codemirror_mode": {
    "name": "ipython",
    "version": 3
   },
   "file_extension": ".py",
   "mimetype": "text/x-python",
   "name": "python",
   "nbconvert_exporter": "python",
   "pygments_lexer": "ipython3",
   "version": "3.11.1"
  }
 },
 "nbformat": 4,
 "nbformat_minor": 2
}
