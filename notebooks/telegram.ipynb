{
 "cells": [
  {
   "cell_type": "code",
   "execution_count": 1,
   "metadata": {},
   "outputs": [],
   "source": [
    "import telethon\n",
    "from telethon.tl.functions.messages import GetDialogsRequest\n",
    "from telethon.sync import TelegramClient\n",
    "from telethon.tl.types import InputPeerEmpty\n",
    "from telethon.tl.types import MessageEntityTextUrl\n",
    "\n",
    "import time"
   ]
  },
  {
   "cell_type": "code",
   "execution_count": 2,
   "metadata": {},
   "outputs": [
    {
     "data": {
      "text/plain": [
       "<coroutine object AuthMethods._start at 0x7ff8f094cec0>"
      ]
     },
     "execution_count": 2,
     "metadata": {},
     "output_type": "execute_result"
    }
   ],
   "source": [
    "api_id = \"str\"\n",
    "api_hash = 'str'\n",
    "phone = 'str'\n",
    "\n",
    "client = TelegramClient('test', api_id, api_hash)\n",
    "client.start()"
   ]
  },
  {
   "cell_type": "code",
   "execution_count": 11,
   "metadata": {},
   "outputs": [
    {
     "data": {
      "text/plain": [
       "<coroutine object AuthMethods.log_out at 0x7ff9205ef6c0>"
      ]
     },
     "execution_count": 11,
     "metadata": {},
     "output_type": "execute_result"
    }
   ],
   "source": [
    "client.log_out()"
   ]
  },
  {
   "cell_type": "code",
   "execution_count": 3,
   "metadata": {},
   "outputs": [],
   "source": [
    "await client.connect()\n",
    "if not await client.is_user_authorized():\n",
    "    await client.send_code_request(phone)\n",
    "    await client.sign_in(phone, input('Enter the code: '))"
   ]
  },
  {
   "cell_type": "code",
   "execution_count": 4,
   "metadata": {},
   "outputs": [],
   "source": [
    "async def test():\n",
    "    dialogs = await client.get_dialogs()\n",
    "    return dialogs"
   ]
  },
  {
   "cell_type": "code",
   "execution_count": 7,
   "metadata": {},
   "outputs": [],
   "source": [
    "dialogs = test()\n",
    "dialogs = await dialogs"
   ]
  },
  {
   "cell_type": "code",
   "execution_count": 8,
   "metadata": {},
   "outputs": [],
   "source": [
    "full_messages = []\n",
    "for dialog in dialogs:\n",
    "    if dialog.title == 'Осторожно, новости':\n",
    "        messages = client.iter_messages(dialog)\n",
    "        i = 0\n",
    "        async for message in messages:\n",
    "            i += 1\n",
    "            full_messages.append(message)\n",
    "            if i == 10:\n",
    "                break"
   ]
  },
  {
   "cell_type": "code",
   "execution_count": 10,
   "metadata": {},
   "outputs": [
    {
     "data": {
      "text/plain": [
       "'**Против журналиста из Томска Андрея Серафимова возбудили дело о призывах к действиям против безопасности государства.**\\n\\nОб этом сам Серафимов рассказал «Осторожно, новости». **По его словам, дело возбудили из-за постов с призывами не ходить в военкомат во время мобилизации**. «Конечно, это не имеет отношения к безопасности РФ. Я думаю, что наоборот помогал делать РФ «безопаснее»: без армии больше людей будет счастливыми, а с счастливыми людьми в стране безопаснее жить», — заявил нам журналист.\\n\\nРанее Серафимов получал «намеки» об уголовном деле — тогда силовики приходили к нему в вуз. Но сегодня о возбуждении дела сообщили его родственникам следователи, которые пришли к ним домой. В 2018-19 годах Серафимов был функционером томского отделения «Молодой Гвардии Единой России», позже сотрудничал с независимыми СМИ и завел телеграм-канал «Улица Бархатная», в 2022 году уехал из России.'"
      ]
     },
     "execution_count": 10,
     "metadata": {},
     "output_type": "execute_result"
    }
   ],
   "source": [
    "full_messages[0].text"
   ]
  }
 ],
 "metadata": {
  "kernelspec": {
   "display_name": "base",
   "language": "python",
   "name": "python3"
  },
  "language_info": {
   "codemirror_mode": {
    "name": "ipython",
    "version": 3
   },
   "file_extension": ".py",
   "mimetype": "text/x-python",
   "name": "python",
   "nbconvert_exporter": "python",
   "pygments_lexer": "ipython3",
   "version": "3.8.5"
  }
 },
 "nbformat": 4,
 "nbformat_minor": 2
}
